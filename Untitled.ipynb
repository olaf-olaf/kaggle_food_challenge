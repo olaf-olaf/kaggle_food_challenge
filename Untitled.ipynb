{
 "cells": [
  {
   "cell_type": "code",
   "execution_count": 17,
   "metadata": {},
   "outputs": [
    {
     "data": {
      "text/plain": [
       "0         train_3460.jpg\n",
       "1        train_24462.jpg\n",
       "2        train_19089.jpg\n",
       "3         train_6620.jpg\n",
       "4        train_19066.jpg\n",
       "5        train_20082.jpg\n",
       "6        train_18309.jpg\n",
       "7        train_22577.jpg\n",
       "8         train_5801.jpg\n",
       "9         train_9186.jpg\n",
       "10       train_28842.jpg\n",
       "11        train_1776.jpg\n",
       "12        train_5365.jpg\n",
       "13        train_7666.jpg\n",
       "14        train_9998.jpg\n",
       "15         train_575.jpg\n",
       "16       train_17012.jpg\n",
       "17        train_2922.jpg\n",
       "18          train_74.jpg\n",
       "19        train_6213.jpg\n",
       "20       train_13498.jpg\n",
       "21        train_2076.jpg\n",
       "22       train_15292.jpg\n",
       "23        train_8805.jpg\n",
       "24        train_5342.jpg\n",
       "25       train_26584.jpg\n",
       "26       train_22143.jpg\n",
       "27       train_11349.jpg\n",
       "28       train_19299.jpg\n",
       "29       train_19165.jpg\n",
       "              ...       \n",
       "27520    train_22738.jpg\n",
       "27521    train_16519.jpg\n",
       "27522    train_20368.jpg\n",
       "27523    train_21448.jpg\n",
       "27524     train_9425.jpg\n",
       "27525    train_18043.jpg\n",
       "27526     train_8790.jpg\n",
       "27527     train_1236.jpg\n",
       "27528    train_18503.jpg\n",
       "27529    train_26129.jpg\n",
       "27530    train_21569.jpg\n",
       "27531    train_18970.jpg\n",
       "27532     train_1786.jpg\n",
       "27533     train_8157.jpg\n",
       "27534    train_24540.jpg\n",
       "27535    train_16528.jpg\n",
       "27536    train_13834.jpg\n",
       "27537    train_12362.jpg\n",
       "27538    train_19492.jpg\n",
       "27539      train_525.jpg\n",
       "27540     train_6804.jpg\n",
       "27541    train_15600.jpg\n",
       "27542    train_14592.jpg\n",
       "27543    train_15902.jpg\n",
       "27544    train_15696.jpg\n",
       "27545     train_5474.jpg\n",
       "27546      train_190.jpg\n",
       "27547    train_19873.jpg\n",
       "27548    train_26921.jpg\n",
       "27549    train_26817.jpg\n",
       "Name: img_name, Length: 27550, dtype: object"
      ]
     },
     "execution_count": 17,
     "metadata": {},
     "output_type": "execute_result"
    }
   ],
   "source": [
    "import pandas as pd\n",
    "from sklearn.model_selection import train_test_split\n",
    "\n",
    "def create_train_validation(file_path):\n",
    "    data = pd.read_csv(file_path)\n",
    "    # data_copy = data.copy()\n",
    "    # train_set = data_copy.sample(frac=0.9, random_state=0)\n",
    "\n",
    "    # test_set = data_copy.drop(train_set.index)\n",
    "    return train_test_split(data, test_size=0.1)\n",
    "train_set, validation_set = create_train_validation('food-recognition-challenge/train_labels.csv')\n",
    "train_set.reset_index(inplace = True)\n",
    "train_set[\"img_name\"]"
   ]
  },
  {
   "cell_type": "code",
   "execution_count": 18,
   "metadata": {},
   "outputs": [
    {
     "data": {
      "text/plain": [
       "'train_3460.jpg'"
      ]
     },
     "execution_count": 18,
     "metadata": {},
     "output_type": "execute_result"
    }
   ],
   "source": [
    "train_set[\"img_name\"][0]"
   ]
  },
  {
   "cell_type": "code",
   "execution_count": null,
   "metadata": {},
   "outputs": [],
   "source": []
  }
 ],
 "metadata": {
  "kernelspec": {
   "display_name": "Python 3",
   "language": "python",
   "name": "python3"
  },
  "language_info": {
   "codemirror_mode": {
    "name": "ipython",
    "version": 3
   },
   "file_extension": ".py",
   "mimetype": "text/x-python",
   "name": "python",
   "nbconvert_exporter": "python",
   "pygments_lexer": "ipython3",
   "version": "3.7.3"
  }
 },
 "nbformat": 4,
 "nbformat_minor": 2
}
