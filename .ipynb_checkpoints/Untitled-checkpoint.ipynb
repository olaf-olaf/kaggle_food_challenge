{
 "cells": [
  {
   "cell_type": "code",
   "execution_count": 13,
   "metadata": {},
   "outputs": [
    {
     "data": {
      "text/plain": [
       "0        train_20643.jpg\n",
       "1        train_26959.jpg\n",
       "2        train_14782.jpg\n",
       "3        train_11906.jpg\n",
       "4        train_19456.jpg\n",
       "5        train_14036.jpg\n",
       "6        train_28530.jpg\n",
       "7        train_10562.jpg\n",
       "8        train_29841.jpg\n",
       "9        train_20406.jpg\n",
       "10       train_17170.jpg\n",
       "11       train_28813.jpg\n",
       "12        train_9036.jpg\n",
       "13       train_11284.jpg\n",
       "14        train_3851.jpg\n",
       "15       train_28307.jpg\n",
       "16       train_16350.jpg\n",
       "17       train_27382.jpg\n",
       "18       train_15481.jpg\n",
       "19       train_27822.jpg\n",
       "20        train_7152.jpg\n",
       "21       train_25773.jpg\n",
       "22       train_23412.jpg\n",
       "23       train_16976.jpg\n",
       "24       train_21753.jpg\n",
       "25       train_18031.jpg\n",
       "26       train_14067.jpg\n",
       "27         train_446.jpg\n",
       "28       train_15394.jpg\n",
       "29        train_1890.jpg\n",
       "              ...       \n",
       "27520    train_15958.jpg\n",
       "27521    train_12471.jpg\n",
       "27522    train_11842.jpg\n",
       "27523    train_27464.jpg\n",
       "27524     train_9990.jpg\n",
       "27525    train_12909.jpg\n",
       "27526    train_18723.jpg\n",
       "27527    train_15472.jpg\n",
       "27528     train_9026.jpg\n",
       "27529    train_17207.jpg\n",
       "27530    train_26035.jpg\n",
       "27531     train_5997.jpg\n",
       "27532    train_23460.jpg\n",
       "27533     train_1497.jpg\n",
       "27534    train_16760.jpg\n",
       "27535     train_3732.jpg\n",
       "27536    train_21713.jpg\n",
       "27537     train_1031.jpg\n",
       "27538    train_15746.jpg\n",
       "27539     train_9865.jpg\n",
       "27540    train_24507.jpg\n",
       "27541    train_23323.jpg\n",
       "27542     train_4263.jpg\n",
       "27543    train_30496.jpg\n",
       "27544    train_28737.jpg\n",
       "27545     train_2220.jpg\n",
       "27546    train_21590.jpg\n",
       "27547     train_4951.jpg\n",
       "27548    train_18048.jpg\n",
       "27549    train_18504.jpg\n",
       "Name: img_name, Length: 27550, dtype: object"
      ]
     },
     "execution_count": 13,
     "metadata": {},
     "output_type": "execute_result"
    }
   ],
   "source": [
    "import pandas as pd\n",
    "from sklearn.model_selection import train_test_split\n",
    "\n",
    "def create_train_validation(file_path):\n",
    "    data = pd.read_csv(file_path)\n",
    "    # data_copy = data.copy()\n",
    "    # train_set = data_copy.sample(frac=0.9, random_state=0)\n",
    "\n",
    "    # test_set = data_copy.drop(train_set.index)\n",
    "    return train_test_split(data, test_size=0.1)\n",
    "train_set, validation_set = create_train_validation('food-recognition-challenge/train_labels.csv')\n",
    "train_set.reset_index(inplace = True)\n",
    "train_set[\"img_name\"]"
   ]
  },
  {
   "cell_type": "code",
   "execution_count": null,
   "metadata": {},
   "outputs": [],
   "source": [
    "train_set[\"img_name\"][0]"
   ]
  },
  {
   "cell_type": "code",
   "execution_count": null,
   "metadata": {},
   "outputs": [],
   "source": []
  }
 ],
 "metadata": {
  "kernelspec": {
   "display_name": "Python 3",
   "language": "python",
   "name": "python3"
  },
  "language_info": {
   "codemirror_mode": {
    "name": "ipython",
    "version": 3
   },
   "file_extension": ".py",
   "mimetype": "text/x-python",
   "name": "python",
   "nbconvert_exporter": "python",
   "pygments_lexer": "ipython3",
   "version": "3.7.3"
  }
 },
 "nbformat": 4,
 "nbformat_minor": 2
}
